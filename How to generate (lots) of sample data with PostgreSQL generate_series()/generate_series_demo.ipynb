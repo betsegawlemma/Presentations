{
    "cells": [
        {
            "cell_type": "markdown",
            "metadata": {
                "azdata_cell_guid": "3f8f4dca-e705-4f5a-b827-398a236bb23b"
            },
            "source": [
                "## 1\\. Setup the Notebook and verify a connection to PostgreSQL"
            ]
        },
        {
            "cell_type": "markdown",
            "metadata": {},
            "source": [
                "Modify the connection string below to get your PostgreSQL connection setup for the rest of the notebook."
            ]
        },
        {
            "cell_type": "code",
            "execution_count": null,
            "metadata": {
                "azdata_cell_guid": "4cdcc43a-8545-4764-8014-6852d23ec82b",
                "tags": []
            },
            "outputs": [],
            "source": [
                "import psycopg2 as pg\n",
                "import pandas.io.sql as psql\n",
                "import plotly.express as px\n",
                "import plotly.graph_objects as go\n",
                "import os\n",
                "\n",
                "if not os.path.exists(\"images\"):\n",
                "    os.mkdir(\"images\")\n",
                "\n",
                "conn = pg.connect(host=\"localhost\", database=\"postgres\", user=\"postgres\", password=\"password\")\n",
                "df = psql.read_sql('SELECT * from generate_series(1,4)', conn)\n",
                "df.head()"
            ]
        },
        {
            "cell_type": "markdown",
            "metadata": {},
            "source": [
                "## Counter with reset\n",
                "\n",
                "```sql\n",
                "-- This example resets the counter every 10 rows \n",
                "WITH counter_rows AS (\n",
                "\tSELECT ts, \n",
                "\t\tCASE WHEN rownum % 10 = 0 THEN 10\n",
                "\t\t     ELSE rownum % 10 END AS row_counter\n",
                "\tFROM generate_series(now() - INTERVAL '5 minutes', now(), INTERVAL '1 second') WITH ORDINALITY AS t(ts, rownum)\n",
                ")\n",
                "SELECT ts, row_counter\n",
                "FROM counter_rows;\n",
                "```"
            ]
        },
        {
            "cell_type": "code",
            "execution_count": null,
            "metadata": {
                "azdata_cell_guid": "70801bb4-2b44-4f29-8d8c-69f3cb4563b3",
                "tags": []
            },
            "outputs": [],
            "source": [
                "sql_str = \"\"\"WITH counter_rows AS (\n",
                "\tSELECT ts, \n",
                "\t\tCASE WHEN rownum % 10 = 0 THEN 10\n",
                "\t\t     ELSE rownum % 10 END AS row_counter\n",
                "\tFROM generate_series(now() - INTERVAL '5 minutes', now(), INTERVAL '1 second') WITH ORDINALITY AS t(ts, rownum)\n",
                ")\n",
                "SELECT ts, row_counter\n",
                "FROM counter_rows;\n",
                "\"\"\"\n",
                "df = psql.read_sql(sql_str, conn)\n",
                "df"
            ]
        },
        {
            "cell_type": "markdown",
            "metadata": {
                "azdata_cell_guid": "58b8919b-3aef-4194-bd71-53fc821be629"
            },
            "source": [
                "### Daily increasing data (random)\n",
                "\n",
                "```sql\n",
                "SELECT ts, (10 + 10 * random()) * rownum as value FROM generate_series\n",
                "       ( '2020-01-01'::date\n",
                "       , '2021-12-31'::date\n",
                "       , INTERVAL '1 day') WITH ORDINALITY AS t(ts, rownum);\n",
                "```"
            ]
        },
        {
            "cell_type": "code",
            "execution_count": null,
            "metadata": {
                "azdata_cell_guid": "70801bb4-2b44-4f29-8d8c-69f3cb4563b3",
                "tags": []
            },
            "outputs": [],
            "source": [
                "graph_title = 'Sample daily website traffic: 2 year'\n",
                "sql_str = \"\"\"SELECT ts, (10 + 10 * random()) * rownum as value FROM generate_series\n",
                "       ( '2020-01-01'::date\n",
                "       , '2021-12-31'::date\n",
                "       , INTERVAL '1 day') WITH ORDINALITY AS t(ts, rownum);\n",
                "\"\"\"\n",
                "df = psql.read_sql(sql_str, conn)\n",
                "\n",
                "fig = go.Figure([\n",
                "    go.Scatter(\n",
                "        name='Measurement',\n",
                "        x=df['ts'],\n",
                "        y=df['value'],\n",
                "        mode='lines',\n",
                "        line=dict(color='rgb(31, 119, 180)'),\n",
                "        showlegend=False\n",
                "    )\n",
                "])\n",
                "fig.update_layout(\n",
                "    yaxis_title='Total website traffic',\n",
                "    title=graph_title,\n",
                "    hovermode=\"x\",\n",
                "    width=900\n",
                ")\n",
                "fig.show()\n",
                "fig.write_image(\"images/sample_daily_website_traffic-2years.svg\")"
            ]
        },
        {
            "cell_type": "markdown",
            "metadata": {
                "azdata_cell_guid": "58b8919b-3aef-4194-bd71-53fc821be629"
            },
            "source": [
                "### 30 day cosine wave (6-day period)\n",
                "\n",
                "```sql\n",
                "SELECT  ts,\n",
                " cos(rownum-1) as value\n",
                "FROM generate_series('2021-01-01','2021-01-30',INTERVAL '1 day') WITH ORDINALITY AS t(ts, rownum);\n",
                "```"
            ]
        },
        {
            "cell_type": "code",
            "execution_count": null,
            "metadata": {
                "azdata_cell_guid": "70801bb4-2b44-4f29-8d8c-69f3cb4563b3",
                "tags": []
            },
            "outputs": [],
            "source": [
                "graph_title = 'Basic Cosine Wave (Daily data, 1 Month)'\n",
                "sql_str = \"\"\"SELECT  ts,\n",
                " cos(rownum-1) as value\n",
                "FROM generate_series('2021-01-01','2021-01-30',INTERVAL '1 day') WITH ORDINALITY AS t(ts, rownum);\n",
                "\"\"\"\n",
                "df = psql.read_sql(sql_str, conn)\n",
                "\n",
                "fig = go.Figure([\n",
                "    go.Scatter(\n",
                "        name='Measurement',\n",
                "        x=df['ts'],\n",
                "        y=df['value'],\n",
                "        mode='markers+lines',\n",
                "        line=dict(color='rgb(31, 119, 180)'),\n",
                "        showlegend=False\n",
                "        \n",
                "    )\n",
                "])\n",
                "fig.update_layout(\n",
                "    yaxis_title='',\n",
                "    title=graph_title,\n",
                "    hovermode=\"x\",\n",
                "    width=900\n",
                ")\n",
                "fig.show()\n",
                "fig.write_image(\"images/basic_30day_cosine.svg\")\n",
                "\n",
                "#df\n",
                "# plt.figure(figsize=(15, 8))\n",
                "# plt.plot(df[\"time\"],df[\"val\"])\n",
                "# plt.show()"
            ]
        },
        {
            "cell_type": "markdown",
            "metadata": {
                "azdata_cell_guid": "58b8919b-3aef-4194-bd71-53fc821be629"
            },
            "source": [
                "### 90-day cosine wave (6-day period)\n",
                "```sql\n",
                "SELECT  ts, \n",
                "cos(rownum-1) as value\n",
                "FROM generate_series('2021-01-01','2021-03-31',INTERVAL '1 day') WITH ORDINALITY AS t(ts, rownum);\n",
                "```"
            ]
        },
        {
            "cell_type": "code",
            "execution_count": null,
            "metadata": {
                "azdata_cell_guid": "70801bb4-2b44-4f29-8d8c-69f3cb4563b3",
                "tags": []
            },
            "outputs": [],
            "source": [
                "graph_title = 'Basic Cosine Wave (Daily data, 3 Months)'\n",
                "sql_str = \"\"\"SELECT  ts, \n",
                "cos(rownum-1) as value\n",
                "FROM generate_series('2021-01-01','2021-03-31',INTERVAL '1 day') WITH ORDINALITY AS t(ts, rownum);\n",
                "\n",
                "\"\"\"\n",
                "df = psql.read_sql(sql_str, conn)\n",
                "\n",
                "fig = go.Figure([\n",
                "    go.Scatter(\n",
                "        name='Measurement',\n",
                "        x=df['ts'],\n",
                "        y=df['value'],\n",
                "        mode='markers+lines',\n",
                "        line=dict(color='rgb(31, 119, 180)'),\n",
                "        showlegend=False\n",
                "        \n",
                "    )\n",
                "])\n",
                "fig.update_layout(\n",
                "    yaxis_title='',\n",
                "    title=graph_title,\n",
                "    hovermode=\"x\",\n",
                "    width=900\n",
                ")\n",
                "fig.show()\n",
                "fig.write_image(\"images/basic_90day_cosine.svg\")\n",
                "#df\n",
                "# plt.figure(figsize=(15, 8))\n",
                "# plt.plot(df[\"time\"],df[\"val\"])\n",
                "# plt.show()"
            ]
        },
        {
            "cell_type": "markdown",
            "metadata": {
                "azdata_cell_guid": "58b8919b-3aef-4194-bd71-53fc821be629"
            },
            "source": [
                "### 90-day cosine wave (30-day period)\n",
                "```sql\n",
                "SELECT  ts, cos((rownum -1 ) * 6.28/30) as value\n",
                "FROM generate_series('2021-01-01','2021-03-31',INTERVAL '1 day') WITH ORDINALITY AS t(ts, rownum);\n",
                "```"
            ]
        },
        {
            "cell_type": "code",
            "execution_count": null,
            "metadata": {
                "azdata_cell_guid": "70801bb4-2b44-4f29-8d8c-69f3cb4563b3",
                "tags": []
            },
            "outputs": [],
            "source": [
                "graph_title = 'Cosine wave with 3 periods (Daily values, 3 months)'\n",
                "sql_str = \"\"\"SELECT  ts, cos((rownum -1 ) * 6.28/30) as value\n",
                "FROM generate_series('2021-01-01','2021-03-31',INTERVAL '1 day') WITH ORDINALITY AS t(ts, rownum);\n",
                "\"\"\"\n",
                "df = psql.read_sql(sql_str, conn)\n",
                "\n",
                "fig = go.Figure([\n",
                "    go.Scatter(\n",
                "        name='Measurement',\n",
                "        x=df['ts'],\n",
                "        y=df['value'],\n",
                "        mode='markers+lines',\n",
                "        line=dict(color='rgb(31, 119, 180)'),\n",
                "        showlegend=False\n",
                "        \n",
                "    )\n",
                "])\n",
                "fig.update_layout(\n",
                "    yaxis_title='',\n",
                "    title=graph_title,\n",
                "    hovermode=\"x\",\n",
                "    width=900\n",
                ")\n",
                "fig.show()\n",
                "fig.write_image(\"images/basic_90day_cosine_3_phases.svg\")"
            ]
        },
        {
            "cell_type": "markdown",
            "metadata": {
                "azdata_cell_guid": "58b8919b-3aef-4194-bd71-53fc821be629"
            },
            "source": [
                "### 90-day cosine wave (90-day period)\n",
                "```sql\n",
                "SELECT  ts, cos((rownum -1 ) * 6.28/90) as value\n",
                "FROM generate_series('2021-01-01','2021-03-31',INTERVAL '1 day') WITH ORDINALITY AS t(ts, rownum);\n",
                "```"
            ]
        },
        {
            "cell_type": "code",
            "execution_count": null,
            "metadata": {
                "azdata_cell_guid": "70801bb4-2b44-4f29-8d8c-69f3cb4563b3",
                "tags": []
            },
            "outputs": [],
            "source": [
                "graph_title = 'Cosine wave with 1 period (Daily values, 90 days)'\n",
                "sql_str = \"\"\"SELECT  ts, cos(rownum * 6.28/90) as value\n",
                "FROM generate_series('2021-01-01','2021-03-31',INTERVAL '1 day') WITH ORDINALITY AS t(ts, rownum);\n",
                "\"\"\"\n",
                "df = psql.read_sql(sql_str, conn)\n",
                "\n",
                "fig = go.Figure([\n",
                "    go.Scatter(\n",
                "        name='Measurement',\n",
                "        x=df['ts'],\n",
                "        y=df['value'],\n",
                "        mode='markers+lines',\n",
                "        line=dict(color='rgb(31, 119, 180)'),\n",
                "        showlegend=False\n",
                "        \n",
                "    )\n",
                "])\n",
                "fig.update_layout(\n",
                "    yaxis_title='',\n",
                "    title=graph_title,\n",
                "    hovermode=\"x\",\n",
                "    width=900\n",
                ")\n",
                "fig.show()\n",
                "fig.write_image(\"images/basic_90day_cosine_1_phase1.svg\")\n"
            ]
        },
        {
            "cell_type": "markdown",
            "metadata": {
                "azdata_cell_guid": "58b8919b-3aef-4194-bd71-53fc821be629"
            },
            "source": [
                "### 90-day cosine wave (increased min/max)\n",
                "```sql\n",
                "SELECT  ts, 10 * cos(rownum * 6.28/30) as value\n",
                "FROM generate_series('2021-01-01','2021-03-31',INTERVAL '1 day') WITH ORDINALITY AS t(ts, rownum);\n",
                "```"
            ]
        },
        {
            "cell_type": "code",
            "execution_count": null,
            "metadata": {
                "azdata_cell_guid": "70801bb4-2b44-4f29-8d8c-69f3cb4563b3",
                "tags": []
            },
            "outputs": [],
            "source": [
                "graph_title = 'Cosine wave, adjusted amplitude, with 3 periods (Daily values, 3 months)'\n",
                "sql_str = \"\"\"SELECT  ts, 10 * cos(rownum * 6.28/30) as value\n",
                "FROM generate_series('2021-01-01','2021-03-31',INTERVAL '1 day') WITH ORDINALITY AS t(ts, rownum);\n",
                "\n",
                "\"\"\"\n",
                "df = psql.read_sql(sql_str, conn)\n",
                "\n",
                "fig = go.Figure([\n",
                "    go.Scatter(\n",
                "        name='Measurement',\n",
                "        x=df['ts'],\n",
                "        y=df['value'],\n",
                "        mode='markers+lines',\n",
                "        line=dict(color='rgb(31, 119, 180)'),\n",
                "        showlegend=False\n",
                "    )\n",
                "])\n",
                "fig.update_layout(\n",
                "    yaxis_title='',\n",
                "    title=graph_title,\n",
                "    hovermode=\"x\",\n",
                "    width=900\n",
                ")\n",
                "fig.show()\n",
                "fig.write_image(\"images/basic_90day_cosine_adjusted_amplitude.svg\")"
            ]
        },
        {
            "cell_type": "markdown",
            "metadata": {
                "azdata_cell_guid": "58b8919b-3aef-4194-bd71-53fc821be629"
            },
            "source": [
                "### 90-day cosine wave (shifted min/max)\n",
                "```sql\n",
                "SELECT  ts, 10 + 10 * cos(rownum * 6.28/30) as value\n",
                "FROM generate_series('2021-01-01','2021-03-31',INTERVAL '1 day') WITH ORDINALITY AS t(ts, rownum);\n",
                "```"
            ]
        },
        {
            "cell_type": "code",
            "execution_count": null,
            "metadata": {
                "azdata_cell_guid": "70801bb4-2b44-4f29-8d8c-69f3cb4563b3",
                "tags": []
            },
            "outputs": [],
            "source": [
                "graph_title = 'Cosine wave, Y-axis shift, with 3 periods (Daily values, 3 months)'\n",
                "sql_str = \"\"\"SELECT  ts, 10 + 10 * cos(rownum * 6.28/30) as value\n",
                "FROM generate_series('2021-01-01','2021-03-31',INTERVAL '1 day') WITH ORDINALITY AS t(ts, rownum);\n",
                "\"\"\"\n",
                "df = psql.read_sql(sql_str, conn)\n",
                "\n",
                "fig = go.Figure([\n",
                "    go.Scatter(\n",
                "        name='Measurement',\n",
                "        x=df['ts'],\n",
                "        y=df['value'],\n",
                "        mode='markers+lines',\n",
                "        line=dict(color='rgb(31, 119, 180)'),\n",
                "        showlegend=False\n",
                "        \n",
                "    )\n",
                "])\n",
                "fig.update_layout(\n",
                "    yaxis_title='',\n",
                "    title=graph_title,\n",
                "    hovermode=\"x\",\n",
                "    width=900\n",
                ")\n",
                "fig.show()\n",
                "fig.write_image(\"images/basic_90day_cosine_y_sift.svg\")"
            ]
        },
        {
            "cell_type": "markdown",
            "metadata": {
                "azdata_cell_guid": "58b8919b-3aef-4194-bd71-53fc821be629"
            },
            "source": [
                "### Wave-based website visits sample (2 year)\n",
                "```sql\n",
                "WITH daily_series AS ( \n",
                "\tSELECT ts, date(ts) AS day, rownum FROM generate_series\n",
                "       ( '2020-01-01'\n",
                "       , '2021-12-31'\n",
                "       , '1 day'::interval) WITH ORDINALITY AS t(ts, rownum)\n",
                "),\n",
                "-- This selects the time, \"day\", and a \n",
                "-- random value that represents our daily website visits\n",
                "daily_value AS ( \n",
                "\tSELECT ts, day, rownum, random() AS val\n",
                "    FROM daily_series\n",
                "    ORDER BY day\n",
                "),\n",
                "-- This cosine wave dataset has the same \"day\" values which allow \n",
                "-- it to be joined to the daily_value easily. The wave value is used to modify\n",
                "-- the \"website\" value by some percentage to smooth it out \n",
                "-- in the shape of the wave.\n",
                "daily_wave AS ( \n",
                "\tSELECT\n",
                "       day,\n",
                "       -- 6.28 radians divided by 180 days (rows) to get \n",
                "       -- one peak every 6 months (twice a year)\n",
                "       1 + .2 * cos(rownum * 6.28/180) as p_mod\n",
                "       FROM daily_series\n",
                "       day\n",
                ")\n",
                "-- (500 + 20 * val) = 500-520 visits per day before modification\n",
                "-- p_mod = an adjusted cosine value that raises or lowers our data each day\n",
                "-- row_number = a big incremental value for each row to quickly increase \"visits\" each day\n",
                "SELECT dv.ts, (500 + 20 * val) * p_mod * rownum as value\n",
                "FROM daily_value dv\n",
                "\tINNER JOIN daily_wave dw ON dv.DAY=dw.DAY\n",
                "    order by ts;\n",
                "```"
            ]
        },
        {
            "cell_type": "code",
            "execution_count": null,
            "metadata": {
                "azdata_cell_guid": "70801bb4-2b44-4f29-8d8c-69f3cb4563b3",
                "tags": []
            },
            "outputs": [],
            "source": [
                "graph_title = 'Wave-based website traffic sample data (2 years)'\n",
                "sql_str = \"\"\"WITH daily_series AS ( \n",
                "\tSELECT ts, date(ts) AS day, rownum FROM generate_series\n",
                "       ( '2020-01-01'\n",
                "       , '2021-12-31'\n",
                "       , '1 day'::interval) WITH ORDINALITY AS t(ts, rownum)\n",
                "),\n",
                "-- This selects the time, \"day\", and a \n",
                "-- random value that represents our daily website visits\n",
                "daily_value AS ( \n",
                "\tSELECT ts, day, rownum, random() AS val\n",
                "    FROM daily_series\n",
                "    ORDER BY day\n",
                "),\n",
                "-- This cosine wave dataset has the same \"day\" values which allow \n",
                "-- it to be joined to the daily_value easily. The wave value is used to modify\n",
                "-- the \"website\" value by some percentage to smooth it out \n",
                "-- in the shape of the wave.\n",
                "daily_wave AS ( \n",
                "\tSELECT\n",
                "       day,\n",
                "       -- 6.28 radians divided by 180 days (rows) to get \n",
                "       -- one peak every 6 months (twice a year)\n",
                "       1 + .2 * cos(rownum * 6.28/180) as p_mod\n",
                "       FROM daily_series\n",
                "       day\n",
                ")\n",
                "-- (500 + 20 * val) = 500-520 visits per day before modification\n",
                "-- p_mod = an adjusted cosine value that raises or lowers our data each day\n",
                "-- row_number = a big incremental value for each row to quickly increase \"visits\" each day\n",
                "SELECT dv.ts, (500 + 20 * val) * p_mod * rownum as value\n",
                "FROM daily_value dv\n",
                "\tINNER JOIN daily_wave dw ON dv.DAY=dw.DAY\n",
                "    order by ts;\n",
                "\n",
                "\n",
                "\"\"\"\n",
                "df = psql.read_sql(sql_str, conn)\n",
                "\n",
                "fig = go.Figure([\n",
                "    go.Scatter(\n",
                "        name='Measurement',\n",
                "        x=df['ts'],\n",
                "        y=df['value'],\n",
                "        mode='lines',\n",
                "        line=dict(color='rgb(31, 119, 180)'),\n",
                "        showlegend=False\n",
                "        \n",
                "    )\n",
                "])\n",
                "fig.update_layout(\n",
                "    yaxis_title='',\n",
                "    title=graph_title,\n",
                "    hovermode=\"x\",\n",
                "    width=900\n",
                ")\n",
                "fig.show()\n",
                "fig.write_image(\"images/sample_wave-based_website_traffic-2years.svg\")"
            ]
        },
        {
            "cell_type": "markdown",
            "metadata": {},
            "source": [
                "## Add seasonality with relational data!\n",
                "\n",
                "**Create a table to represent months of the year**\n",
                "\n",
                "```sql\n",
                "CREATE TABLE overrides (\n",
                "\tm_val INT NOT NULL,\n",
                "\tp_inc FLOAT4 NOT null\n",
                ");\n",
                "```\n",
                "\n",
                "**Insert \"adjustment\" data for various months**\n",
                "```sql\n",
                "INSERT INTO overrides(m_val, p_inc) VALUES \n",
                "\t(1,1.04), -- 4% residual increase from December\n",
                "\t(2,1),\n",
                "\t(3,1),\n",
                "\t(4,1),\n",
                "\t(5,1),\n",
                "\t(6,1.10),-- June increase of 10%\n",
                "\t(7,1),\n",
                "\t(8,1),\n",
                "\t(9,1),\n",
                "\t(10,1),\n",
                "\t(11,1.08), -- 8% early shoppers sales/traffic growth\n",
                "\t(12,1.18); -- 18% holiday increase\n",
                "```"
            ]
        },
        {
            "cell_type": "markdown",
            "metadata": {
                "azdata_cell_guid": "58b8919b-3aef-4194-bd71-53fc821be629"
            },
            "source": [
                "### Targeted adjustment website visits sample (2 year)\n",
                "```sql\n",
                "WITH daily_series AS (\n",
                "-- a random value that increases over time based on the row number\n",
                "SELECT ts, date_part('month',ts) AS m_val, (10 + 10*random()) * rownum as value FROM generate_series\n",
                "       ( '2020-01-01'::date\n",
                "       , '2021-12-31'::date\n",
                "       , INTERVAL '1 day') WITH ORDINALITY AS t(ts, rownum)\n",
                ")\n",
                "-- join to the `overrides` table to get the 'p_inc' value \n",
                "-- for the month of the current row\n",
                "SELECT ts, value * p_inc AS value FROM daily_series ds\n",
                "INNER JOIN overrides o ON ds.m_val=o.m_val\n",
                "ORDER BY ts;\n",
                "```"
            ]
        },
        {
            "cell_type": "code",
            "execution_count": null,
            "metadata": {
                "azdata_cell_guid": "70801bb4-2b44-4f29-8d8c-69f3cb4563b3",
                "tags": []
            },
            "outputs": [],
            "source": [
                "conn = pg.connect(host=\"localhost\", database=\"lastpoint\", user=\"postgres\", password=\"password\")\n",
                "graph_title = 'Sample website traffic, enhanced with relational data (2 years)'\n",
                "sql_str = \"\"\"WITH daily_series AS (\n",
                "-- a random value that increases over time based on the row number\n",
                "SELECT ts, date_part('month',ts) AS m_val, (10 + 10*random()) * rownum as value FROM generate_series\n",
                "       ( '2020-01-01'::date\n",
                "       , '2021-12-31'::date\n",
                "       , INTERVAL '1 day') WITH ORDINALITY AS t(ts, rownum)\n",
                ")\n",
                "-- join to the `overrides` table to get the 'p_inc' value \n",
                "-- for the month of the current row\n",
                "SELECT ts, value * p_inc AS value FROM daily_series ds\n",
                "INNER JOIN overrides o ON ds.m_val=o.m_val\n",
                "ORDER BY ts;\n",
                "\"\"\"\n",
                "df = psql.read_sql(sql_str, conn)\n",
                "\n",
                "fig = go.Figure([\n",
                "    go.Scatter(\n",
                "        name='Measurement',\n",
                "        x=df['ts'],\n",
                "        y=df['value'],\n",
                "        mode='lines',\n",
                "        line=dict(color='rgb(31, 119, 180)'),\n",
                "        showlegend=False\n",
                "        \n",
                "    )\n",
                "])\n",
                "fig.update_layout(\n",
                "    yaxis_title='',\n",
                "    title=graph_title,\n",
                "    hovermode=\"x\",\n",
                "    width=1800, \n",
                "    height=920\n",
                ")\n",
                "fig.update_layout(\n",
                "    yaxis_title='',\n",
                "    title=graph_title,\n",
                "    hovermode=\"x\",\n",
                "    width=900\n",
                ")\n",
                "fig.show()\n",
                "fig.write_image(\"images/enhanced_sample_daily_website_traffic-2years.svg\")"
            ]
        },
        {
            "cell_type": "markdown",
            "metadata": {
                "azdata_cell_guid": "58b8919b-3aef-4194-bd71-53fc821be629"
            },
            "source": [
                "### Targeted adjustment website visits sample V2 (2 year)\n",
                "```sql\n",
                "WITH daily_series AS ( \n",
                "\tSELECT ts, date(ts) AS day, rownum FROM generate_series\n",
                "       ( '2020-01-01'\n",
                "       , '2021-12-31'\n",
                "       , '1 day'::interval) WITH ORDINALITY AS t(ts, rownum)\n",
                "),\n",
                "-- This selects the time, \"day\", and a \n",
                "-- random value that represents our daily website visits\n",
                "-- 'm_val' will be used to join with the 'overrides' table\n",
                "daily_value AS ( \n",
                "\tSELECT ts, day, date_part('month',ts) as m_val, rownum, random() AS val\n",
                "    FROM daily_series\n",
                "    ORDER BY day\n",
                "),\n",
                "-- This cosine wave dataset has the same \"day\" values which allow \n",
                "-- it to be joined to the daily_value easily. The wave value is used to modify\n",
                "-- the \"website\" value by some percentage to smooth it out \n",
                "-- in the shape of the wave.\n",
                "daily_wave AS ( \n",
                "\tSELECT\n",
                "       day,\n",
                "       -- 6.28 radians divided by 180 days (rows) to get \n",
                "       -- one peak every 6 months (twice a year)\n",
                "       1 + .2 * cos(rownum * 6.28/180) as p_mod\n",
                "       FROM daily_series\n",
                "       day\n",
                ")\n",
                "-- (500 + 20 * val) = 500-520 visits per day before modification\n",
                "-- p_mod = an adjusted cosine value that raises or lowers our data each day\n",
                "-- row_number = a big incremental value for each row to quickly increase \"visits\" each day\n",
                "-- p_inc = a monthly adjustment value taken from the 'overrides' table\n",
                "SELECT dv.ts, (500 + 20 * val) * p_mod * rownum * p_inc as value\n",
                "FROM daily_value dv\n",
                "\tINNER JOIN daily_wave dw ON dv.DAY=dw.DAY\n",
                "    inner join overrides o on dv.m_val=o.m_val\n",
                "    order by ts;\n",
                "```"
            ]
        },
        {
            "cell_type": "code",
            "execution_count": null,
            "metadata": {
                "azdata_cell_guid": "70801bb4-2b44-4f29-8d8c-69f3cb4563b3",
                "tags": []
            },
            "outputs": [],
            "source": [
                "conn = pg.connect(host=\"localhost\", database=\"lastpoint\", user=\"postgres\", password=\"password\")\n",
                "graph_title = 'Wave-based website traffic sample data, enhanced with relational values (2 years)'\n",
                "sql_str = \"\"\"-- This is the generate series data\n",
                "-- with a \"short\" date to join with later\n",
                "WITH daily_series AS ( \n",
                "\tSELECT ts, date(ts) AS day, rownum FROM generate_series\n",
                "       ( '2020-01-01'\n",
                "       , '2021-12-31'\n",
                "       , '1 day'::interval) WITH ORDINALITY AS t(ts, rownum)\n",
                "),\n",
                "-- This selects the time, \"day\", and a \n",
                "-- random value that represents our daily website visits\n",
                "-- 'm_val' will be used to join with the 'overrides' table\n",
                "daily_value AS ( \n",
                "\tSELECT ts, day, date_part('month',ts) as m_val, rownum, random() AS val\n",
                "    FROM daily_series\n",
                "    ORDER BY day\n",
                "),\n",
                "-- This cosine wave dataset has the same \"day\" values which allow \n",
                "-- it to be joined to the daily_value easily. The wave value is used to modify\n",
                "-- the \"website\" value by some percentage to smooth it out \n",
                "-- in the shape of the wave.\n",
                "daily_wave AS ( \n",
                "\tSELECT\n",
                "       day,\n",
                "       -- 6.28 radians divided by 180 days (rows) to get \n",
                "       -- one peak every 6 months (twice a year)\n",
                "       1 + .2 * cos(rownum * 6.28/180) as p_mod\n",
                "       FROM daily_series\n",
                "       day\n",
                ")\n",
                "-- (500 + 20 * val) = 500-520 visits per day before modification\n",
                "-- p_mod = an adjusted cosine value that raises or lowers our data each day\n",
                "-- row_number = a big incremental value for each row to quickly increase \"visits\" each day\n",
                "-- p_inc = a monthly adjustment value taken from the 'overrides' table\n",
                "SELECT dv.ts, (500 + 20 * val) * p_mod * rownum * p_inc as value\n",
                "FROM daily_value dv\n",
                "\tINNER JOIN daily_wave dw ON dv.DAY=dw.DAY\n",
                "    inner join overrides o on dv.m_val=o.m_val\n",
                "    order by ts;\n",
                "\n",
                "\"\"\"\n",
                "df = psql.read_sql(sql_str, conn)\n",
                "\n",
                "fig = go.Figure([\n",
                "    go.Scatter(\n",
                "        name='Measurement',\n",
                "        x=df['ts'],\n",
                "        y=df['value'],\n",
                "        mode='lines',\n",
                "        line=dict(color='rgb(31, 119, 180)'),\n",
                "        showlegend=False\n",
                "        \n",
                "    )\n",
                "])\n",
                "fig.update_layout(\n",
                "    yaxis_title='',\n",
                "    title=graph_title,\n",
                "    hovermode=\"x\",\n",
                "    width=900\n",
                ")\n",
                "fig.show()\n",
                "fig.write_image(\"images/sample_wave-based_website_traffic_enhanced-2years.svg\")"
            ]
        }
    ],
    "metadata": {
        "kernelspec": {
            "display_name": "Python 3",
            "language": "python",
            "name": "python3"
        },
        "language_info": {
            "codemirror_mode": {
                "name": "ipython",
                "version": 3
            },
            "file_extension": ".py",
            "mimetype": "text/x-python",
            "name": "python",
            "nbconvert_exporter": "python",
            "pygments_lexer": "ipython3",
            "version": "3.9.6"
        }
    },
    "nbformat": 4,
    "nbformat_minor": 2
}
